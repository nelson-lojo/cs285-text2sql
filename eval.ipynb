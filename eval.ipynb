{
 "cells": [
  {
   "cell_type": "code",
   "execution_count": 1,
   "id": "29e8ea56-c3e6-49cf-8e19-276c02e3237d",
   "metadata": {},
   "outputs": [
    {
     "name": "stderr",
     "output_type": "stream",
     "text": [
      "/usr/lib/python3/dist-packages/scipy/__init__.py:146: UserWarning: A NumPy version >=1.17.3 and <1.25.0 is required for this version of SciPy (detected version 1.26.2\n",
      "  warnings.warn(f\"A NumPy version >={np_minversion} and <{np_maxversion}\"\n",
      "/home/ubuntu/.local/lib/python3.10/site-packages/pandas/core/arrays/masked.py:62: UserWarning: Pandas requires version '1.3.4' or newer of 'bottleneck' (version '1.3.2' currently installed).\n",
      "  from pandas.core import (\n"
     ]
    }
   ],
   "source": [
    "import torch\n",
    "import pickle\n",
    "\n",
    "from typing import Tuple\n",
    "from tqdm.notebook import tqdm\n",
    "from peft import AutoPeftModelForCausalLM\n",
    "from transformers import (\n",
    "    BitsAndBytesConfig,\n",
    "    pipeline,\n",
    "    AutoTokenizer\n",
    ")\n",
    "from datasets import load_dataset\n",
    "\n",
    "\n",
    "from reward import get_reward\n",
    "\n",
    "SFT_ADAPTER_DIRECTORY = \"./open_llama_3b_v2_sft/\"\n",
    "DPO_ADAPTER_DIRECTORY = \"./open_llama_3b_v2_sft_plus_dpo/\""
   ]
  },
  {
   "cell_type": "code",
   "execution_count": 2,
   "id": "fd6250d4-2855-49d3-ba8e-cdbd4a8c8696",
   "metadata": {},
   "outputs": [],
   "source": [
    "dataset_name = \"samlhuillier/sql-create-context-spider-intersect\"\n",
    "response_template = \"\\n-- Answer:\\n\"\n",
    "def format_prompt(example) -> Tuple[str, str]:\n",
    "    return f\"{example['context']} \\n-- Question: {example['question']}{response_template}\", example['answer']"
   ]
  },
  {
   "cell_type": "code",
   "execution_count": 3,
   "id": "5899661b-12d6-478f-b448-14ee27cfbe29",
   "metadata": {},
   "outputs": [],
   "source": [
    "dataset = load_dataset(dataset_name, split=\"validation\").map(lambda example: {\"query\" : format_prompt(example)[0]})"
   ]
  },
  {
   "cell_type": "code",
   "execution_count": 4,
   "id": "9955a4f2-a504-43fd-895d-6cb946fb0be9",
   "metadata": {},
   "outputs": [
    {
     "data": {
      "text/plain": [
       "{'answer': 'SELECT count(*) FROM singer',\n",
       " 'context': 'CREATE TABLE singer (Id VARCHAR)',\n",
       " 'question': 'How many singers do we have?',\n",
       " 'db_id': 'concert_singer',\n",
       " 'query': 'CREATE TABLE singer (Id VARCHAR) \\n-- Question: How many singers do we have?\\n-- Answer:\\n'}"
      ]
     },
     "execution_count": 4,
     "metadata": {},
     "output_type": "execute_result"
    }
   ],
   "source": [
    "dataset[0]"
   ]
  },
  {
   "cell_type": "code",
   "execution_count": 5,
   "id": "49ce118e-4f2c-46a8-97af-7b29bcec810f",
   "metadata": {},
   "outputs": [],
   "source": [
    "# Model from Hugging Face hub\n",
    "base_model = \"openlm-research/open_llama_3b_v2\""
   ]
  },
  {
   "cell_type": "code",
   "execution_count": 6,
   "id": "ed209c56-1e8a-4480-af93-bcf68c5d02c5",
   "metadata": {},
   "outputs": [
    {
     "name": "stderr",
     "output_type": "stream",
     "text": [
      "You are using the default legacy behaviour of the <class 'transformers.models.llama.tokenization_llama.LlamaTokenizer'>. This is expected, and simply means that the `legacy` (previous) behavior will be used so nothing changes for you. If you want to use the new behaviour, set `legacy=False`. This should only be set if you understand what it means, and thoroughly read the reason why this was added as explained in https://github.com/huggingface/transformers/pull/24565\n"
     ]
    }
   ],
   "source": [
    "# Load LLaMA tokenizer\n",
    "tokenizer = AutoTokenizer.from_pretrained(base_model, trust_remote_code=True)\n",
    "tokenizer.pad_token = tokenizer.eos_token\n",
    "tokenizer.padding_side = \"left\""
   ]
  },
  {
   "cell_type": "code",
   "execution_count": 7,
   "id": "7d864a23-22a4-4a82-85bf-70095c0a9624",
   "metadata": {},
   "outputs": [],
   "source": [
    "def load_model(adapter_dir):\n",
    "    # Load DPO model\n",
    "    quant_config = BitsAndBytesConfig(\n",
    "        load_in_4bit=True,\n",
    "        bnb_4bit_quant_type=\"nf4\",\n",
    "        bnb_4bit_compute_dtype=torch.float16,\n",
    "        # torch_dtype=torch.float16,\n",
    "        bnb_4bit_use_double_quant=False,\n",
    "    )\n",
    "    \n",
    "    dpo_model = AutoPeftModelForCausalLM.from_pretrained(\n",
    "        adapter_dir,\n",
    "        quantization_config=quant_config,\n",
    "        trust_remote_code=True,\n",
    "        is_trainable=True,\n",
    "    )\n",
    "    \n",
    "    dpo_model.config.use_cache = False\n",
    "    dpo_model.config.pretraining_tp = 1\n",
    "    \n",
    "    return dpo_model.merge_and_unload().eval()"
   ]
  },
  {
   "cell_type": "code",
   "execution_count": 8,
   "id": "0f009867-be67-4fe4-a44a-196f0adc7fc0",
   "metadata": {},
   "outputs": [],
   "source": [
    "def log(txt, quiet=True):\n",
    "    with open(\"eval_out.txt\", \"w+\", encoding=\"utf-8\") as f:\n",
    "        f.write(txt)\n",
    "    if not quiet:\n",
    "        print(txt)"
   ]
  },
  {
   "cell_type": "code",
   "execution_count": 9,
   "id": "6528c076-4997-4067-b4a3-b46004f7dfd4",
   "metadata": {},
   "outputs": [],
   "source": [
    "def get_eval_rewards(model, quiet=True, sample_size=-1):\n",
    "    p = pipeline(task=\"text-generation\", model=model, tokenizer=tokenizer, max_new_tokens=120)\n",
    "    \n",
    "    rewards = []\n",
    "    if sample_size >= 0:\n",
    "        inds = torch.randperm(len(dataset))[:sample_size]\n",
    "        ds = dataset.select(inds)\n",
    "    else:\n",
    "        ds = dataset\n",
    "\n",
    "    for row in tqdm(ds):\n",
    "        out = p(row[\"query\"])\n",
    "        response = out[0][\"generated_text\"]\n",
    "        \n",
    "        # remove our query, split by newlines\n",
    "        response_lines = response.replace(row[\"query\"], \"\").split(\"\\n\")\n",
    "        model_submission = response_lines[0]\n",
    "        # rew = get_reward(row[\"db_id\"], model_submission, row[\"answer\"])\n",
    "        rew = 1.1\n",
    "        rewards.append(rew)\n",
    "        \n",
    "        log(row[\"query\"], quiet=quiet)\n",
    "        log(model_submission, quiet=quiet)\n",
    "        log(\"-------------------------------------------------\", quiet=quiet)\n",
    "        log(f\"-- Got reward of {rew} against solution:\", quiet=quiet)\n",
    "        log(row['answer'], quiet=quiet)\n",
    "        log(\"-------------------------------------------------\", quiet=quiet)\n",
    "    \n",
    "    return rewards"
   ]
  },
  {
   "cell_type": "code",
   "execution_count": null,
   "id": "a9c88f11-bd71-4758-966f-21ac2441b768",
   "metadata": {},
   "outputs": [
    {
     "name": "stderr",
     "output_type": "stream",
     "text": [
      "/home/ubuntu/.local/lib/python3.10/site-packages/peft/tuners/lora/bnb.py:229: UserWarning: Merge lora module to 4-bit linear may get different generations due to rounding errors.\n",
      "  warnings.warn(\n"
     ]
    },
    {
     "data": {
      "application/vnd.jupyter.widget-view+json": {
       "model_id": "3d5b9b2311204c1f9e58a6974de54b28",
       "version_major": 2,
       "version_minor": 0
      },
      "text/plain": [
       "  0%|          | 0/50 [00:00<?, ?it/s]"
      ]
     },
     "metadata": {},
     "output_type": "display_data"
    },
    {
     "name": "stderr",
     "output_type": "stream",
     "text": [
      "/home/ubuntu/.local/lib/python3.10/site-packages/transformers/generation/utils.py:1518: UserWarning: You have modified the pretrained model configuration to control generation. This is a deprecated strategy to control generation and will be removed soon, in a future version. Please use and modify the model generation configuration (see https://huggingface.co/docs/transformers/generation_strategies#default-text-generation-configuration )\n",
      "  warnings.warn(\n"
     ]
    }
   ],
   "source": [
    "rewards = get_eval_rewards(load_model(DPO_ADAPTER_DIRECTORY), quiet=True, sample_size=50)\n",
    "\n",
    "with open(\"dpo_eval_returns.pkl\", \"wb\") as f:\n",
    "    pickle.dump(rewards, f)"
   ]
  },
  {
   "cell_type": "code",
   "execution_count": null,
   "id": "dae75730-deab-4a99-80b0-5cbe1e254509",
   "metadata": {},
   "outputs": [],
   "source": [
    "torch.mean(rewards)"
   ]
  },
  {
   "cell_type": "code",
   "execution_count": null,
   "id": "ecbf742f-9143-4765-8fdd-e7d806d8183c",
   "metadata": {},
   "outputs": [],
   "source": []
  }
 ],
 "metadata": {
  "environment": {
   "kernel": "conda-root-py",
   "name": "workbench-notebooks.m113",
   "type": "gcloud",
   "uri": "gcr.io/deeplearning-platform-release/workbench-notebooks:m113"
  },
  "kernelspec": {
   "display_name": "Python 3 (ipykernel)",
   "language": "python",
   "name": "python3"
  },
  "language_info": {
   "codemirror_mode": {
    "name": "ipython",
    "version": 3
   },
   "file_extension": ".py",
   "mimetype": "text/x-python",
   "name": "python",
   "nbconvert_exporter": "python",
   "pygments_lexer": "ipython3",
   "version": "3.10.12"
  }
 },
 "nbformat": 4,
 "nbformat_minor": 5
}
