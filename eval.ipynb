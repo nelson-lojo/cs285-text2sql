{
 "cells": [
  {
   "cell_type": "code",
   "execution_count": 2,
   "id": "29e8ea56-c3e6-49cf-8e19-276c02e3237d",
   "metadata": {},
   "outputs": [
    {
     "data": {
      "text/plain": [
       "<torch._C.Generator at 0x7fb92d41d4f0>"
      ]
     },
     "execution_count": 2,
     "metadata": {},
     "output_type": "execute_result"
    }
   ],
   "source": [
    "import torch\n",
    "import pickle\n",
    "import os\n",
    "\n",
    "from tqdm.notebook import tqdm\n",
    "\n",
    "ADAPTERS = [{\n",
    "        \"dir\" : \"./open_llama_3b_v2_sft/\",\n",
    "        \"moniker\" : \"pre\"\n",
    "    }, {\n",
    "        \"dir\" : \"./open_llama_3b_v2_sft_full/\",\n",
    "        \"moniker\" : \"sft\"\n",
    "    }, {\n",
    "        \"dir\" : \"./open_llama_3b_v2_sft_plus_dpo/\",\n",
    "        \"moniker\" : \"dpo\",\n",
    "    }, {\n",
    "        \"dir\" : \"./open_llama_3b_v2_sft_plus_dpo_r4\",\n",
    "        \"moniker\" : \"dpo_r4\"\n",
    "}]\n",
    "\n",
    "torch.manual_seed(42)"
   ]
  },
  {
   "cell_type": "markdown",
   "id": "530344de",
   "metadata": {},
   "source": [
    "## Generate Evaluation metrics\n",
    "---"
   ]
  },
  {
   "cell_type": "code",
   "execution_count": null,
   "id": "da5c8741",
   "metadata": {},
   "outputs": [],
   "source": [
    "from typing import Tuple\n",
    "from peft import AutoPeftModelForCausalLM\n",
    "from transformers import (\n",
    "    BitsAndBytesConfig,\n",
    "    pipeline,\n",
    "    AutoTokenizer\n",
    ")\n",
    "from datasets import load_dataset\n",
    "\n",
    "from reward import get_reward"
   ]
  },
  {
   "cell_type": "code",
   "execution_count": 2,
   "id": "fd6250d4-2855-49d3-ba8e-cdbd4a8c8696",
   "metadata": {},
   "outputs": [],
   "source": [
    "dataset_name = \"samlhuillier/sql-create-context-spider-intersect\"\n",
    "response_template = \"\\n-- Answer:\\n\"\n",
    "def format_prompt(example) -> Tuple[str, str]:\n",
    "    return f\"{example['context']} \\n-- Question: {example['question']}{response_template}\", example['answer']"
   ]
  },
  {
   "cell_type": "code",
   "execution_count": 3,
   "id": "5899661b-12d6-478f-b448-14ee27cfbe29",
   "metadata": {},
   "outputs": [],
   "source": [
    "dataset = load_dataset(dataset_name, split=\"validation\").map(lambda example: {\"query\" : format_prompt(example)[0]})"
   ]
  },
  {
   "cell_type": "code",
   "execution_count": 4,
   "id": "9955a4f2-a504-43fd-895d-6cb946fb0be9",
   "metadata": {},
   "outputs": [
    {
     "data": {
      "text/plain": [
       "{'answer': 'SELECT count(*) FROM singer',\n",
       " 'db_id': 'concert_singer',\n",
       " 'context': 'CREATE TABLE singer (Id VARCHAR)',\n",
       " 'question': 'How many singers do we have?',\n",
       " 'query': 'CREATE TABLE singer (Id VARCHAR) \\n-- Question: How many singers do we have?\\n-- Answer:\\n'}"
      ]
     },
     "execution_count": 4,
     "metadata": {},
     "output_type": "execute_result"
    }
   ],
   "source": [
    "dataset[0]"
   ]
  },
  {
   "cell_type": "code",
   "execution_count": 5,
   "id": "49ce118e-4f2c-46a8-97af-7b29bcec810f",
   "metadata": {},
   "outputs": [],
   "source": [
    "# Model from Hugging Face hub\n",
    "base_model = \"openlm-research/open_llama_3b_v2\""
   ]
  },
  {
   "cell_type": "code",
   "execution_count": 6,
   "id": "ed209c56-1e8a-4480-af93-bcf68c5d02c5",
   "metadata": {},
   "outputs": [
    {
     "name": "stderr",
     "output_type": "stream",
     "text": [
      "You are using the default legacy behaviour of the <class 'transformers.models.llama.tokenization_llama.LlamaTokenizer'>. This is expected, and simply means that the `legacy` (previous) behavior will be used so nothing changes for you. If you want to use the new behaviour, set `legacy=False`. This should only be set if you understand what it means, and thoroughly read the reason why this was added as explained in https://github.com/huggingface/transformers/pull/24565\n"
     ]
    }
   ],
   "source": [
    "# Load LLaMA tokenizer\n",
    "tokenizer = AutoTokenizer.from_pretrained(base_model, trust_remote_code=True)\n",
    "tokenizer.pad_token = tokenizer.eos_token\n",
    "tokenizer.padding_side = \"left\""
   ]
  },
  {
   "cell_type": "code",
   "execution_count": 7,
   "id": "7d864a23-22a4-4a82-85bf-70095c0a9624",
   "metadata": {},
   "outputs": [],
   "source": [
    "def load_model(adapter_dir):\n",
    "    # Load model\n",
    "    quant_config = BitsAndBytesConfig(\n",
    "        load_in_4bit=True,\n",
    "        bnb_4bit_quant_type=\"nf4\",\n",
    "        bnb_4bit_compute_dtype=torch.float16,\n",
    "        bnb_4bit_use_double_quant=False,\n",
    "    )\n",
    "    \n",
    "    dpo_model = AutoPeftModelForCausalLM.from_pretrained(\n",
    "        adapter_dir,\n",
    "        quantization_config=quant_config,\n",
    "        trust_remote_code=True,\n",
    "        is_trainable=True,\n",
    "    )\n",
    "    \n",
    "    dpo_model.config.use_cache = False\n",
    "    dpo_model.config.pretraining_tp = 1\n",
    "    \n",
    "    return dpo_model.merge_and_unload().eval()"
   ]
  },
  {
   "cell_type": "code",
   "execution_count": 8,
   "id": "0f009867-be67-4fe4-a44a-196f0adc7fc0",
   "metadata": {},
   "outputs": [],
   "source": [
    "def get_logger(quiet=True, outfile=\"eval_out.txt\"):\n",
    "    def log(txt):\n",
    "        with open(outfile, \"a\", encoding=\"utf-8\") as f:\n",
    "            f.write(f\"{txt}\\n\")\n",
    "        if not quiet:\n",
    "            print(txt)\n",
    "    return log"
   ]
  },
  {
   "cell_type": "code",
   "execution_count": 9,
   "id": "6528c076-4997-4067-b4a3-b46004f7dfd4",
   "metadata": {},
   "outputs": [],
   "source": [
    "def get_eval_rewards(model, quiet=True, sample_size=-1, logfile=\"eval_out.txt\"):\n",
    "    p = pipeline(task=\"text-generation\", model=model, tokenizer=tokenizer, max_new_tokens=120)\n",
    "    \n",
    "    rewards = []\n",
    "    if sample_size >= 0:\n",
    "        inds = torch.randperm(len(dataset))[:sample_size]\n",
    "        ds = dataset.select(inds)\n",
    "    else:\n",
    "        ds = dataset\n",
    "\n",
    "    log = get_logger(quiet, logfile)\n",
    "    for row in tqdm(ds):\n",
    "        out = p(row[\"query\"])\n",
    "        response = out[0][\"generated_text\"]\n",
    "        \n",
    "        # remove our query, split by newlines\n",
    "        response_lines = response.replace(row[\"query\"], \"\").split(\"\\n\")\n",
    "        model_submission = response_lines[0]\n",
    "        rew = get_reward(row[\"db_id\"], model_submission, row[\"answer\"])\n",
    "        rewards.append(rew)\n",
    "        \n",
    "        log(row[\"query\"])\n",
    "        log(model_submission)\n",
    "        log(\"-------------------------------------------------\")\n",
    "        log(f\"-- Got reward of {rew} against solution:\")\n",
    "        log(row['answer'])\n",
    "        log(\"-------------------------------------------------\")\n",
    "    \n",
    "    return rewards"
   ]
  },
  {
   "cell_type": "code",
   "execution_count": 10,
   "id": "a9c88f11-bd71-4758-966f-21ac2441b768",
   "metadata": {},
   "outputs": [
    {
     "name": "stdout",
     "output_type": "stream",
     "text": [
      "Evaluating pre ...\n"
     ]
    },
    {
     "name": "stderr",
     "output_type": "stream",
     "text": [
      "/home/ubuntu/.local/lib/python3.10/site-packages/peft/tuners/lora/bnb.py:229: UserWarning: Merge lora module to 4-bit linear may get different generations due to rounding errors.\n",
      "  warnings.warn(\n"
     ]
    },
    {
     "data": {
      "application/vnd.jupyter.widget-view+json": {
       "model_id": "69a1004efd444a8a97b79ed85e24391a",
       "version_major": 2,
       "version_minor": 0
      },
      "text/plain": [
       "  0%|          | 0/50 [00:00<?, ?it/s]"
      ]
     },
     "metadata": {},
     "output_type": "display_data"
    },
    {
     "name": "stderr",
     "output_type": "stream",
     "text": [
      "/home/ubuntu/.local/lib/python3.10/site-packages/transformers/generation/utils.py:1518: UserWarning: You have modified the pretrained model configuration to control generation. This is a deprecated strategy to control generation and will be removed soon, in a future version. Please use and modify the model generation configuration (see https://huggingface.co/docs/transformers/generation_strategies#default-text-generation-configuration )\n",
      "  warnings.warn(\n",
      "/home/ubuntu/.local/lib/python3.10/site-packages/transformers/pipelines/base.py:1101: UserWarning: You seem to be using the pipelines sequentially on GPU. In order to maximize efficiency please use a dataset\n",
      "  warnings.warn(\n"
     ]
    },
    {
     "name": "stdout",
     "output_type": "stream",
     "text": [
      "Evaluating sft ...\n"
     ]
    },
    {
     "data": {
      "application/vnd.jupyter.widget-view+json": {
       "model_id": "b546861f44da49c89c9bd63d9a7f9f87",
       "version_major": 2,
       "version_minor": 0
      },
      "text/plain": [
       "  0%|          | 0/50 [00:00<?, ?it/s]"
      ]
     },
     "metadata": {},
     "output_type": "display_data"
    },
    {
     "name": "stdout",
     "output_type": "stream",
     "text": [
      "Evaluating dpo ...\n"
     ]
    },
    {
     "data": {
      "application/vnd.jupyter.widget-view+json": {
       "model_id": "78d59e9d91b1461a97b61d7d7dbb172f",
       "version_major": 2,
       "version_minor": 0
      },
      "text/plain": [
       "  0%|          | 0/50 [00:00<?, ?it/s]"
      ]
     },
     "metadata": {},
     "output_type": "display_data"
    },
    {
     "name": "stdout",
     "output_type": "stream",
     "text": [
      "Evaluating dpo_r4 ...\n"
     ]
    },
    {
     "data": {
      "application/vnd.jupyter.widget-view+json": {
       "model_id": "4a5b15aee39442deb3475b072a4596a3",
       "version_major": 2,
       "version_minor": 0
      },
      "text/plain": [
       "  0%|          | 0/50 [00:00<?, ?it/s]"
      ]
     },
     "metadata": {},
     "output_type": "display_data"
    }
   ],
   "source": [
    "\n",
    "if not os.path.isdir(\"eval_results/\"):\n",
    "    os.mkdir(\"eval_results/\")\n",
    "\n",
    "for adapter in ADAPTERS:\n",
    "    moniker = adapter['moniker']\n",
    "    print(\"Evaluating\", moniker, \"...\")\n",
    "    rewards = get_eval_rewards(load_model(adapter[\"dir\"]), \n",
    "                                quiet=True, sample_size=50, \n",
    "                                logfile=f\"eval_results/{moniker}_eval_out.txt\")\n",
    "\n",
    "    with open(f\"eval_results/{adapter['moniker']}_eval_returns.pkl\", \"wb\") as f:\n",
    "        pickle.dump(rewards, f)"
   ]
  },
  {
   "cell_type": "code",
   "execution_count": 11,
   "id": "dae75730-deab-4a99-80b0-5cbe1e254509",
   "metadata": {},
   "outputs": [],
   "source": [
    "def load_reward(adapter) -> list:\n",
    "    with open(f\"eval_results/{adapter['moniker']}_eval_returns.pkl\", \"rb\") as f:\n",
    "        return pickle.load(f)"
   ]
  },
  {
   "cell_type": "code",
   "execution_count": 12,
   "id": "ecbf742f-9143-4765-8fdd-e7d806d8183c",
   "metadata": {},
   "outputs": [
    {
     "name": "stdout",
     "output_type": "stream",
     "text": [
      "Adapter pre got reward tensor(0.5752, dtype=torch.float64) +- tensor(0.2469, dtype=torch.float64)\n",
      "Adapter sft got reward tensor(1.3521, dtype=torch.float64) +- tensor(0.4724, dtype=torch.float64)\n",
      "Adapter dpo got reward tensor(1.4493, dtype=torch.float64) +- tensor(0.4367, dtype=torch.float64)\n",
      "Adapter dpo_r4 got reward tensor(1.4397, dtype=torch.float64) +- tensor(0.4094, dtype=torch.float64)\n"
     ]
    }
   ],
   "source": [
    "for adapter in ADAPTERS:\n",
    "    rews = torch.tensor(load_reward(adapter))\n",
    "    print(f\"Adapter {adapter['moniker']} got reward\", rews.mean(), \"+-\", rews.std())"
   ]
  },
  {
   "cell_type": "code",
   "execution_count": null,
   "id": "f96f3d1a-c3f3-4319-bbd3-5829c0d8ee26",
   "metadata": {},
   "outputs": [],
   "source": []
  },
  {
   "cell_type": "markdown",
   "id": "68363e51",
   "metadata": {},
   "source": [
    "## Post-generation\n",
    "---\n",
    "Run from here if you have the eval metrics pregenerated and available at `eval_results/`"
   ]
  },
  {
   "cell_type": "code",
   "execution_count": 62,
   "id": "5026d9d4",
   "metadata": {},
   "outputs": [],
   "source": [
    "import matplotlib.pyplot as plt\n",
    "import pandas as pd\n",
    "\n",
    "%matplotlib inline"
   ]
  },
  {
   "cell_type": "code",
   "execution_count": 132,
   "id": "9384f1c7",
   "metadata": {},
   "outputs": [],
   "source": [
    "def load_eval_outs(moniker: str, delim = \"---\") -> pd.DataFrame:\n",
    "    with open(f\"eval_results/{moniker}_eval_out.txt\", \"r\") as f:\n",
    "        lines = f.readlines()\n",
    "\n",
    "    in_solution = False\n",
    "    out_entries = [ ]\n",
    "    resp = \"\"\n",
    "    sol = \"\"\n",
    "    for line in lines:\n",
    "        is_delim = delim in line\n",
    "\n",
    "        if is_delim:\n",
    "            in_solution = not in_solution\n",
    "            if sol != \"\":\n",
    "                sol_query = sol.split(\"\\n\")[1]\n",
    "                rew = float(sol.split(\"\\n\")[0]\n",
    "                               .replace(\"-- Got reward of\" , \"\")\n",
    "                               .replace(\"against solution:\", \"\")\n",
    "                               .strip() )\n",
    "                prompt = \"\\n\".join(resp.strip().split(\"\\n\")[:-1]).strip()\n",
    "                response = resp.strip().split(\"\\n\")[-1].strip()\n",
    "                out_entries.append({\n",
    "                    \"prompt\" : prompt,\n",
    "                    \"response\" : response,\n",
    "                    \"solution\" : sol_query,\n",
    "                    \"reward\" : rew\n",
    "                })\n",
    "                resp = \"\"\n",
    "                sol = \"\"\n",
    "        else:\n",
    "            if in_solution:\n",
    "                sol += line\n",
    "            else:\n",
    "                resp += line\n",
    "    \n",
    "    return pd.DataFrame(out_entries)"
   ]
  },
  {
   "cell_type": "code",
   "execution_count": 133,
   "id": "0336d25b",
   "metadata": {},
   "outputs": [],
   "source": [
    "returns = {\n",
    "    adapter['moniker'] : load_eval_outs(adapter['moniker'])\n",
    "    for adapter in ADAPTERS\n",
    "}"
   ]
  },
  {
   "cell_type": "code",
   "execution_count": 139,
   "id": "5fd0c418",
   "metadata": {},
   "outputs": [
    {
     "data": {
      "image/png": "[encoded data removed]",
      "text/plain": [
       "<Figure size 640x480 with 1 Axes>"
      ]
     },
     "metadata": {},
     "output_type": "display_data"
    }
   ],
   "source": [
    "plt.bar(x=list(returns.keys()), \n",
    "        height=list(map(lambda df: df['reward'].mean(), returns.values())), \n",
    "        yerr=list(map(lambda df: df['reward'].std(), returns.values()))\n",
    ")\n",
    "plt.hlines([2.0],[-0.7],[3.7], linestyles=\"--\", color=\"gray\")\n",
    "plt.xlim(-0.6, (len(returns.keys()) - 1) + .6)\n",
    "plt.title(\"Average Returns\")\n",
    "plt.ylabel(\"Return\")\n",
    "plt.show()"
   ]
  },
  {
   "cell_type": "code",
   "execution_count": null,
   "id": "b6156efb",
   "metadata": {},
   "outputs": [],
   "source": []
  }
 ],
 "metadata": {
  "environment": {
   "kernel": "conda-root-py",
   "name": "workbench-notebooks.m113",
   "type": "gcloud",
   "uri": "gcr.io/deeplearning-platform-release/workbench-notebooks:m113"
  },
  "kernelspec": {
   "display_name": "Python 3 (ipykernel)",
   "language": "python",
   "name": "python3"
  },
  "language_info": {
   "codemirror_mode": {
    "name": "ipython",
    "version": 3
   },
   "file_extension": ".py",
   "mimetype": "text/x-python",
   "name": "python",
   "nbconvert_exporter": "python",
   "pygments_lexer": "ipython3",
   "version": "3.10.13"
  }
 },
 "nbformat": 4,
 "nbformat_minor": 5
}
